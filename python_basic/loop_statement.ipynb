{
 "cells": [
  {
   "cell_type": "code",
   "execution_count": null,
   "metadata": {},
   "outputs": [],
   "source": [
    "# 반복문\n",
    "# for 반복문 : 반복할 횟수가 정해져있는 반복 작업에서 사용\n",
    "# for 변수 in range(반복횟수):\n",
    "#   반복할 실행문"
   ]
  },
  {
   "cell_type": "code",
   "execution_count": 14,
   "metadata": {},
   "outputs": [
    {
     "name": "stdout",
     "output_type": "stream",
     "text": [
      "[0, 1, 2, 3, 4]\n",
      "0\n",
      "반복 실행문\n",
      "1\n",
      "반복 실행문\n",
      "2\n",
      "반복 실행문\n",
      "3\n",
      "반복 실행문\n",
      "4\n",
      "반복 실행문\n",
      "5\n",
      "6\n",
      "7\n",
      "8\n",
      "9\n",
      "5\n",
      "8\n",
      "10\n",
      "9\n",
      "8\n",
      "7\n",
      "6\n",
      "5\n",
      "4\n",
      "3\n",
      "2\n",
      "1\n",
      "0\n"
     ]
    }
   ],
   "source": [
    "# for (int index = 0; index < 5; index++) => 자바에서 쓰는 for문이랑 파이썬에서 쓰는 for문이랑 완전 다른 개념\n",
    "\n",
    "# int[] array = {0, 1, 2, 3, 4}; => 파이썬에서의 for문의 의미\n",
    "# for (int index : array) {}\n",
    "# range(정수): 0부터 (정수-1)까지의 정수 리스트 생성\n",
    "# range(시작 정수, 종료 정수) : 시작 정수부터 종료 정수까지의 정수 리스트 생성\n",
    "# range(시작 정부, 종료 정수, 차이) : 시작 정수부터 (종료 정수-1)까지의 정수 리스트를 생성하는데 차이정수 만큼의 차이를 가지면서 변경됨\n",
    "print(list(range(5)))\n",
    "\n",
    "for index in range(5):\n",
    "    print(index)\n",
    "    print('반복 실행문')\n",
    "\n",
    "for index in range(5, 10):\n",
    "    print(index)\n",
    "\n",
    "for index in range(5, 10, 3):\n",
    "    print(index)\n",
    "\n",
    "for index in range(10, -1, -1):\n",
    "    print(index)"
   ]
  },
  {
   "cell_type": "code",
   "execution_count": 68,
   "metadata": {},
   "outputs": [
    {
     "name": "stdout",
     "output_type": "stream",
     "text": [
      "\n",
      "*\n",
      "**\n",
      "***\n",
      "****\n",
      "*****\n",
      "******\n",
      "*******\n",
      "********\n",
      "*********\n",
      "**********\n"
     ]
    }
   ],
   "source": [
    "# 연습문제\n",
    "\n",
    "for star in range(11):\n",
    "    print('*' * star)"
   ]
  },
  {
   "cell_type": "code",
   "execution_count": 58,
   "metadata": {},
   "outputs": [
    {
     "name": "stdout",
     "output_type": "stream",
     "text": [
      "*\n",
      "**\n",
      "***\n",
      "****\n",
      "*****\n",
      "******\n",
      "*******\n",
      "********\n",
      "*********\n",
      "**********\n"
     ]
    }
   ],
   "source": [
    "for star in range(1,11):\n",
    "    print('*' * star)"
   ]
  },
  {
   "cell_type": "code",
   "execution_count": 17,
   "metadata": {},
   "outputs": [
    {
     "name": "stdout",
     "output_type": "stream",
     "text": [
      "**********\n",
      "*********\n",
      "********\n",
      "*******\n",
      "******\n",
      "*****\n",
      "****\n",
      "***\n",
      "**\n",
      "*\n",
      "\n"
     ]
    }
   ],
   "source": [
    "for star in range(10, -1, -1):\n",
    "    print('*' * star)"
   ]
  },
  {
   "cell_type": "code",
   "execution_count": 67,
   "metadata": {},
   "outputs": [
    {
     "name": "stdout",
     "output_type": "stream",
     "text": [
      "\n",
      "*\n",
      "**\n",
      "***\n",
      "****\n",
      "*****\n",
      "******\n",
      "*******\n",
      "********\n",
      "*********\n",
      "**********\n",
      "*********\n",
      "********\n",
      "*******\n",
      "******\n",
      "*****\n",
      "****\n",
      "***\n",
      "**\n",
      "*\n"
     ]
    }
   ],
   "source": [
    "for star in range(20):\n",
    "   if star <= 10:\n",
    "       print('*' * star)\n",
    "   else:\n",
    "       print('*' * (20 - star))"
   ]
  },
  {
   "cell_type": "code",
   "execution_count": 96,
   "metadata": {},
   "outputs": [
    {
     "name": "stdout",
     "output_type": "stream",
     "text": [
      "     *\n",
      "    ***\n",
      "   *****\n",
      "  *******\n",
      " *********\n",
      "***********\n",
      " *********\n",
      "  *******\n",
      "   *****\n",
      "    ***\n",
      "     *\n"
     ]
    }
   ],
   "source": [
    "for star in range(1, 12):\n",
    "    if star <= 6:\n",
    "        print(' ' * (6 - star) + '*' * (star * 2 - 1)) # 1, 3, 5, 7, 9, 11\n",
    "    else:\n",
    "        print(' ' * (star - 6) + '*' * ((12 - star) * 2 - 1)) # 9, 7, 5, 3, 1"
   ]
  },
  {
   "cell_type": "code",
   "execution_count": 99,
   "metadata": {},
   "outputs": [
    {
     "name": "stdout",
     "output_type": "stream",
     "text": [
      "     *     \n",
      "    ***    \n",
      "   *****   \n",
      "  *******  \n",
      " ********* \n",
      "***********\n",
      " ********* \n",
      "  *******  \n",
      "   *****   \n",
      "    ***    \n",
      "     *     \n"
     ]
    }
   ],
   "source": [
    "for count in range(1, 12):\n",
    "    star = '*'    \n",
    "    if count <= 6:\n",
    "        star = '*' * (count * 2 - 1)        \n",
    "    else:\n",
    "        star =  '*' * ((12 - count) * 2 - 1)\n",
    "\n",
    "    print(f'{star:^11}')"
   ]
  },
  {
   "cell_type": "code",
   "execution_count": null,
   "metadata": {},
   "outputs": [],
   "source": [
    "# 중첩 for문"
   ]
  },
  {
   "cell_type": "code",
   "execution_count": 100,
   "metadata": {},
   "outputs": [
    {
     "name": "stdout",
     "output_type": "stream",
     "text": [
      "0 1 2 3 \n",
      "1 2 3 4 \n",
      "2 3 4 5 \n",
      "3 4 5 6 \n"
     ]
    }
   ],
   "source": [
    "# 0 1 2 3\n",
    "# 1 2 3 4\n",
    "# 2 3 4 5 \n",
    "# 3 4 5 6\n",
    "\n",
    "for a in range(4):\n",
    "    for b in range(4):\n",
    "        print(a + b, end = ' ') # end : 끝에 띄워쓰기 넣어라\n",
    "    print('') "
   ]
  },
  {
   "cell_type": "code",
   "execution_count": 101,
   "metadata": {},
   "outputs": [
    {
     "name": "stdout",
     "output_type": "stream",
     "text": [
      "0 1 2 3 \n",
      "1 2 3 4 \n",
      "2 3 4 5 \n",
      "3 4 5 6 \n"
     ]
    }
   ],
   "source": [
    "for start in range(4):\n",
    "    for value in range(start, start + 4):\n",
    "        print(value, end=' ')\n",
    "    print('')"
   ]
  },
  {
   "cell_type": "code",
   "execution_count": 3,
   "metadata": {},
   "outputs": [
    {
     "name": "stdout",
     "output_type": "stream",
     "text": [
      "1 3\n",
      "2 2\n",
      "2 6\n",
      "3 1\n",
      "3 5\n",
      "4 4\n",
      "5 3\n",
      "6 2\n",
      "6 6\n"
     ]
    }
   ],
   "source": [
    "# 주사위 두 번 던져서 나온 숫자들이 합이 4의 배수가 되는 경우\n",
    "# 주사위를 두번 돌리는데 a 주사위의 값이랑 b 주사위의 값을 합쳐서 4로 나눴을 때 0이면 결과를 반환\n",
    "\n",
    "for a in range(1, 7):\n",
    "    for b in range(1, 7):\n",
    "        if (a + b) % 4 == 0:\n",
    "            print(f'{a} {b}')"
   ]
  },
  {
   "cell_type": "code",
   "execution_count": 5,
   "metadata": {},
   "outputs": [
    {
     "name": "stdout",
     "output_type": "stream",
     "text": [
      "64.0\n",
      "256.0\n",
      "256.0\n",
      "1024.0\n",
      "256.0\n",
      "1024.0\n",
      "1024.0\n",
      "4096.0\n",
      "256.0\n",
      "1024.0\n",
      "1024.0\n",
      "4096.0\n",
      "1024.0\n",
      "4096.0\n",
      "4096.0\n",
      "16384\n"
     ]
    }
   ],
   "source": [
    "# 연습문제\n",
    "# 주식의 가격\n",
    "\n",
    "for a in range(2):\n",
    "    for b in range(2):\n",
    "        for c in range(2):\n",
    "            for d in range(2):\n",
    "                print(1024 * 2**(2 * a - 1) * 2**(2 * b - 1) * 2**(2 * c - 1) * 2**(2 * d - 1))"
   ]
  },
  {
   "cell_type": "code",
   "execution_count": 35,
   "metadata": {},
   "outputs": [
    {
     "name": "stdout",
     "output_type": "stream",
     "text": [
      "0\n",
      "1\n",
      "3\n",
      "6\n",
      "10\n",
      "15\n",
      "21\n",
      "28\n",
      "36\n",
      "45\n"
     ]
    }
   ],
   "source": [
    "for count in range(1, 11):\n",
    "    sum = 0\n",
    "    for value in range(count):\n",
    "        sum += value\n",
    "    print(sum)"
   ]
  },
  {
   "cell_type": "code",
   "execution_count": 44,
   "metadata": {},
   "outputs": [
    {
     "name": "stdout",
     "output_type": "stream",
     "text": [
      "220\n"
     ]
    }
   ],
   "source": [
    "sum = 0\n",
    "\n",
    "for count in range(1, 11):\n",
    "    for value in range(count + 1):\n",
    "        sum += value\n",
    "print(sum)"
   ]
  }
 ],
 "metadata": {
  "kernelspec": {
   "display_name": "Python 3",
   "language": "python",
   "name": "python3"
  },
  "language_info": {
   "codemirror_mode": {
    "name": "ipython",
    "version": 3
   },
   "file_extension": ".py",
   "mimetype": "text/x-python",
   "name": "python",
   "nbconvert_exporter": "python",
   "pygments_lexer": "ipython3",
   "version": "3.12.2"
  }
 },
 "nbformat": 4,
 "nbformat_minor": 2
}
